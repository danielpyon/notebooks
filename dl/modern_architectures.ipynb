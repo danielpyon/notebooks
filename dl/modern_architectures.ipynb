{
 "cells": [
  {
   "cell_type": "markdown",
   "id": "2530ee44-bc41-4627-8d12-dad73d2122f4",
   "metadata": {},
   "source": [
    "# Modern Architectures"
   ]
  },
  {
   "cell_type": "markdown",
   "id": "0683a388-74a4-45f5-8dd6-9f05cde007e5",
   "metadata": {},
   "source": [
    "## LeNet\n",
    "- Conv: 5x5, stride 1\n",
    "- Pooling: 2x2, stride 2\n",
    "\n",
    "## Alexnet\n",
    "- 227x227x3 conv-> 55x55x96\n",
    "- 227x227x3 pool-> 27x27x96\n",
    "- Weight decay, learning rate decay, relu, SGD momentum\n",
    "\n",
    "## ZFNet\n",
    "- Change stride, filter size\n",
    "- Use more filters for conv3,4,5\n",
    "\n",
    "## VGGnet\n",
    "- Uses smaller conv filters\n",
    "- Receptive field for 3 3x3 conv layers (not filters) is the same as one 7x7 conv\n",
    "- Using smaller convs means deeper, more nonlinearities\n",
    "\n",
    "## GoogLeNet\n",
    "- Only 5m parameters\n",
    "- No FC layers\n",
    "- Inception modules: have networks within networks\n",
    "    - Do multiple convs / pools, concatenate result\n",
    "- Use 1x1 conv (bottleneck) to reduce channels of images\n",
    "\n",
    "## ResNet\n",
    "- 152 layers\n",
    "- Increasing layers with plain convs did not improve performance\n",
    "- Deeper models have higher representational power, but are harder to optimize\n",
    "- Residual connections allow you to increase layers while retaining at least the same performance as with smaller layers\n",
    "    - H(x)=F(x)+X, F is conv, H is output, X is input\n",
    "    - Network can learn to ignore extra conv layers, and just use the identity layer (if it results in better performance) \n",
    "\n",
    "## Transformers for vision\n",
    "- \n"
   ]
  },
  {
   "cell_type": "code",
   "execution_count": null,
   "id": "a3010e4b-8bc0-4eb6-8859-d53df365a19a",
   "metadata": {},
   "outputs": [],
   "source": []
  }
 ],
 "metadata": {
  "kernelspec": {
   "display_name": "Python 3 (ipykernel)",
   "language": "python",
   "name": "python3"
  },
  "language_info": {
   "codemirror_mode": {
    "name": "ipython",
    "version": 3
   },
   "file_extension": ".py",
   "mimetype": "text/x-python",
   "name": "python",
   "nbconvert_exporter": "python",
   "pygments_lexer": "ipython3",
   "version": "3.11.7"
  }
 },
 "nbformat": 4,
 "nbformat_minor": 5
}
