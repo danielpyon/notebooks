{
 "cells": [
  {
   "cell_type": "markdown",
   "id": "4264ecd8-1dfa-4ef1-9ca8-be3dacd37e29",
   "metadata": {},
   "source": [
    "# RNNs and LSTMs"
   ]
  },
  {
   "cell_type": "markdown",
   "id": "429bbad6-006c-4ea8-9bab-67ed3e541f89",
   "metadata": {},
   "source": [
    "## RNNs"
   ]
  },
  {
   "cell_type": "markdown",
   "id": "6aaa7d17-f39d-40b9-aa2b-2a7834d1c2ba",
   "metadata": {},
   "source": [
    "- RNN has two outputs: one gets outputted, one is hidden state that gets passed to next RNN\n",
    "- $h_t=f_W(h_{t-1}, x_t)$\n",
    "    - Takes hidden representation + token and produces output\n",
    "- $h_t = \\tanh(W_{hh}h_{t-1} + W_{xh}x_t)$\n",
    "- $y_t = W_{hy} h_t$\n",
    "\n",
    "- "
   ]
  },
  {
   "cell_type": "code",
   "execution_count": null,
   "id": "8802c8f5-444b-4418-9580-bdcf48eca5ed",
   "metadata": {},
   "outputs": [],
   "source": []
  }
 ],
 "metadata": {
  "kernelspec": {
   "display_name": "Python 3 (ipykernel)",
   "language": "python",
   "name": "python3"
  },
  "language_info": {
   "codemirror_mode": {
    "name": "ipython",
    "version": 3
   },
   "file_extension": ".py",
   "mimetype": "text/x-python",
   "name": "python",
   "nbconvert_exporter": "python",
   "pygments_lexer": "ipython3",
   "version": "3.11.7"
  }
 },
 "nbformat": 4,
 "nbformat_minor": 5
}
