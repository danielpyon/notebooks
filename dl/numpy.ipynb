{
 "cells": [
  {
   "cell_type": "markdown",
   "id": "966a07a0-2a1d-4331-bbb5-28947c3228b9",
   "metadata": {},
   "source": [
    "# numpy"
   ]
  },
  {
   "cell_type": "code",
   "execution_count": null,
   "id": "7ea29538-9242-411d-a00f-80a620186f2f",
   "metadata": {},
   "outputs": [],
   "source": [
    "# aside: useful jupyter tricks\n",
    "# 1) tab for autocomplete\n",
    "# 2) inline markdown with latex\n",
    "# 3) vimlike bindings: esc to switch to cmd mode\n",
    "#    - B (new cell Below)\n",
    "#    - A (new cell Above)\n",
    "#    - DD (delete cell)\n",
    "#    - ctrl+shift+up/down (move cell up or down)"
   ]
  },
  {
   "cell_type": "markdown",
   "id": "7b65982d-7e17-447d-8e0e-66e2d6d2e0ff",
   "metadata": {},
   "source": [
    "## 231n tutorial"
   ]
  },
  {
   "cell_type": "markdown",
   "id": "71666684-0264-48b8-bd3e-9817e46a874f",
   "metadata": {},
   "source": [
    "### arrays\n",
    "rank: num of dimensions\n",
    "shape: tuple of sizes along each dimension"
   ]
  },
  {
   "cell_type": "code",
   "execution_count": null,
   "id": "a7f4fdfd-4a2a-4388-b885-013a89e81913",
   "metadata": {},
   "outputs": [],
   "source": [
    "import numpy as np\n",
    "a = np.array([1, 2, 3])\n",
    "print(type(a))\n",
    "print(a.shape)\n",
    "print(a[0], a[1], a[2])\n",
    "a[0] = 5\n",
    "print(a)\n",
    "\n",
    "b = np.array([[1,2,3],[4,5,6]])\n",
    "print(b.shape)\n",
    "print(b[0, 0], b[0, 1], b[1, 0])"
   ]
  },
  {
   "cell_type": "code",
   "execution_count": null,
   "id": "4fee326d-07f4-40fb-8a30-60412a008f1c",
   "metadata": {},
   "outputs": [],
   "source": [
    "# ways to make an array\n",
    "a=np.zeros((2,2))\n",
    "print(a)\n",
    "b=np.ones((1,2))\n",
    "print(b)\n",
    "c=np.full((2,2), 7)\n",
    "print(c)\n",
    "d = np.eye(2)\n",
    "print(d)\n",
    "e = np.random.random((2,2))\n",
    "print(e)"
   ]
  },
  {
   "cell_type": "markdown",
   "id": "71a73c94-4301-429d-b4fd-4ce7a66b066d",
   "metadata": {},
   "source": [
    "## indexing"
   ]
  },
  {
   "cell_type": "code",
   "execution_count": null,
   "id": "df7c4eb1-3a20-4a33-a420-f5d6251f2ffb",
   "metadata": {},
   "outputs": [],
   "source": [
    "# slice indexing vs integer indexing\n",
    "\n",
    "a = np.array([[1,2,3,4], [5,6,7,8], [9,10,11,12]])\n",
    "print(a)\n",
    "print(a[:2, :3])\n",
    "print()\n",
    "\n",
    "# rank 1 row\n",
    "row_r1 = a[0,:]\n",
    "# rank 2 row\n",
    "row_r2 = a[0:1,:] # need this extra \":\"\n",
    "print(row_r1, row_r1.shape)\n",
    "print(row_r2, row_r2.shape)\n",
    "print()\n",
    "\n",
    "col_r1 = a[:,0]\n",
    "col_r2 = a[:,0:1]\n",
    "print(col_r1, col_r1.shape)\n",
    "print(col_r2, col_r2.shape)"
   ]
  },
  {
   "cell_type": "code",
   "execution_count": null,
   "id": "59659b64-992f-4208-8c7f-76d10688f131",
   "metadata": {},
   "outputs": [],
   "source": [
    "# with slicing, you get a view of the underlying array\n",
    "# with integer indexing, you get a new array\n",
    "a = np.array([[1,2,3,4], [5,6,7,8], [9,10,11,12]])\n",
    "print(a)\n",
    "print(a[[0,1],[1,3]])\n",
    "print(a[[0, 1, 2], [0, 1, 0]])"
   ]
  },
  {
   "cell_type": "code",
   "execution_count": null,
   "id": "0b4e9232-ae53-4de7-8811-d781bdc2185b",
   "metadata": {},
   "outputs": [],
   "source": [
    "# using integer indexing to update an array\n",
    "a = np.array([[1,2,3], [4,5,6], [7,8,9], [10, 11, 12]])\n",
    "print(a)\n",
    "\n",
    "b = np.array([0,1,2,1])\n",
    "\n",
    "print(a[np.arange(4), b])\n",
    "\n",
    "a[np.arange(4), b] += 10\n",
    "print(a)"
   ]
  },
  {
   "cell_type": "code",
   "execution_count": null,
   "id": "98374630-e66b-402e-a209-0064b900bca2",
   "metadata": {},
   "outputs": [],
   "source": [
    "# boolean indexing\n",
    "a = np.array([[1,2], [3, 4], [5, 6]])\n",
    "print(a)\n",
    "print(a>2)\n",
    "\n",
    "# this makes a rank 1 array consisting of values greater than 2\n",
    "print(a[a>2])"
   ]
  },
  {
   "cell_type": "code",
   "execution_count": null,
   "id": "6b9f6168-c3d4-4377-9acd-c1be8233bcdc",
   "metadata": {},
   "outputs": [],
   "source": [
    "# dtypes\n",
    "a=np.array([[2]])\n",
    "print(a.dtype)\n",
    "a=np.array([[2.0]])\n",
    "print(a.dtype)"
   ]
  },
  {
   "cell_type": "code",
   "execution_count": null,
   "id": "6bb3956a-6090-4798-82cc-eefab8511a0f",
   "metadata": {},
   "outputs": [],
   "source": [
    "# array math\n",
    "a = np.array([[0,1],[2,3]])\n",
    "print(a)\n",
    "print(a * 2) # *,/,+,-,sqrt"
   ]
  },
  {
   "cell_type": "code",
   "execution_count": null,
   "id": "1ca65b5c-7864-42d0-974d-8b6bc6a9ef1a",
   "metadata": {},
   "outputs": [],
   "source": [
    "# matrix-vector or vector-vector product\n",
    "x = np.array([[1,2],[3,4]])\n",
    "v = np.array([9,10])\n",
    "print(x)\n",
    "print(y)\n",
    "print('---')\n",
    "print(v)\n",
    "print(w)\n",
    "print('---')\n",
    "# could also use np.dot for these\n",
    "print(x@v) # this makes a rank 1 array\n",
    "print(v@v) # this makes a scalar\n",
    "\n",
    "# sum\n",
    "print('\\n\\nsum stuff')\n",
    "print('---')\n",
    "x = np.array([[1,2],[3,4],[5,6]])\n",
    "print(x)\n",
    "print(np.sum(x))         # scalar\n",
    "print(np.sum(x, axis=0)) # sums across vertical axis -> (2,)\n",
    "print(np.sum(x, axis=1)) # sums across horizontal axis -> (3,)\n"
   ]
  },
  {
   "cell_type": "code",
   "execution_count": null,
   "id": "15e886e3-9530-4581-b4b6-5759dfc6923f",
   "metadata": {},
   "outputs": [],
   "source": [
    "# reshaping, transposes\n",
    "x=np.array([[1,2],[3,4]])\n",
    "print(x)\n",
    "print(x.T)\n",
    "\n",
    "# transpose of rank 1 array doesn't do anything\n",
    "x=np.array([1,2,3])\n",
    "print(x, x.T)\n",
    "assert x.shape == x.T.shape\n",
    "\n",
    "# reshape a 100x32x32x3 into 100x3072 (think images)\n",
    "print('---')\n",
    "x = np.random.rand(100,32,32,3)\n",
    "y = x.reshape((100, -1))\n",
    "print(x.shape)\n",
    "print(y.shape)"
   ]
  },
  {
   "cell_type": "code",
   "execution_count": null,
   "id": "d2a9d949-0924-4f67-8c4a-fc4e6e40f33a",
   "metadata": {},
   "outputs": [],
   "source": [
    "# broadcasting\n",
    "\n",
    "# basic rule:\n",
    "# 1) pad smaller ranked array with 1s on left\n",
    "# 2) align dims, and for each matched-up dim:\n",
    "#    - if they're equal, move on\n",
    "#    - if (n,1) and (1,m), turn into (n,m)\n",
    "#    - otherwise, invalid\n",
    "\n",
    "# intuition: think of a square matrix. then add a vector of same length to it.\n",
    "# you \"broadcast\" it by making stacked copies to match the dimensions of the matrix\n",
    "\n",
    "m = np.array([[1,2],[3,4]])\n",
    "print(m)\n",
    "print('---')\n",
    "print(m * np.array([[1],[2]]))"
   ]
  },
  {
   "cell_type": "code",
   "execution_count": null,
   "id": "d0d2a109-1008-41c5-bd80-9fcf16df16e7",
   "metadata": {},
   "outputs": [],
   "source": [
    "x = np.array([[1,2,3], [4,5,6], [7,8,9], [10, 11, 12]])\n",
    "print(x)\n",
    "v = np.array([1, 0, 1])\n",
    "y = np.empty_like(x) # this doesn't zero it out lmao\n",
    "\n",
    "# inefficient version\n",
    "'''\n",
    "for i in range(4):\n",
    "    y[i,:] = x[i,:] + v\n",
    "'''\n",
    "\n",
    "# slightly better\n",
    "'''\n",
    "vv = np.tile(v, (4,1))\n",
    "y = x + vv\n",
    "'''\n",
    "\n",
    "# instead, use broadcasting\n",
    "y = x + v\n",
    "print()\n",
    "print(y)"
   ]
  },
  {
   "cell_type": "code",
   "execution_count": null,
   "id": "0a6f0914-552e-4d39-a520-acc0a264b9ac",
   "metadata": {},
   "outputs": [],
   "source": [
    "# more broadcasting applications\n",
    "\n",
    "# 1) outer product of vectors\n",
    "v = np.array([1,2,3]) # (3,)\n",
    "w = np.array([4,5])   # (2,)\n",
    "\n",
    "#    (3,1)\n",
    "#    (1,2)\n",
    "# -> (3,2)\n",
    "\n",
    "# intuitively, v is reshaped to make a 3x2 matrix, then w is also reshaped to make a 3x2 matrix\n",
    "# then they're elementwise multiplied\n",
    "print('---example 1---')\n",
    "print(np.reshape(v, (3,1)) * w)\n",
    "\n",
    "# 2) add vector to each row of matrix\n",
    "x = np.array([[1,2,3], [4,5,6]])\n",
    "print('\\n---example 2---')\n",
    "print(x+v)\n",
    "\n",
    "# 3) add a vector to each column of a matrix\n",
    "print('\\n---example 3---')\n",
    "print(x)\n",
    "print(x.T)\n",
    "print(w)\n",
    "print('=')\n",
    "print((x.T + w).T)\n",
    "\n",
    "print('alternatively,')\n",
    "print(x + np.reshape(w, (2, 1)))\n",
    "\n",
    "# 4) matrix times constant\n",
    "print('\\n---example 4---')\n",
    "print(x * 2)"
   ]
  },
  {
   "cell_type": "code",
   "execution_count": null,
   "id": "026fc9ac-52f9-40e5-a1c1-cf550695a828",
   "metadata": {},
   "outputs": [],
   "source": [
    "# scipy\n",
    "from scipy.spatial.distance import pdist, squareform\n",
    "x = np.array([[0, 1], [1, 0], [2, 0]])\n",
    "print(x)\n",
    "\n",
    "# distance from vector 1 to all other vectors,\n",
    "# from vector 2 to all other vectors, etc\n",
    "squareform(pdist(x,'euclidean'))"
   ]
  },
  {
   "cell_type": "code",
   "execution_count": null,
   "id": "abb8dc91-9bee-47cc-9671-c99755cf5971",
   "metadata": {},
   "outputs": [],
   "source": [
    "# matplotlib\n",
    "import matplotlib.pyplot as plt\n",
    "x = np.arange(0, 3 * np.pi, 0.1)\n",
    "y = np.sin(x)\n",
    "plt.plot(x,y)"
   ]
  },
  {
   "cell_type": "code",
   "execution_count": null,
   "id": "603058e3-f0f3-4f32-90b0-5c6fdaf1cdfc",
   "metadata": {},
   "outputs": [],
   "source": [
    "# multiple plots at once\n",
    "x = np.arange(0, 3 * np.pi, 0.1)\n",
    "y_sin = np.sin(x)\n",
    "y_cos = np.cos(x)\n",
    "plt.plot(x,y_sin)\n",
    "plt.plot(x,y_cos)\n",
    "plt.xlabel('x axis label')\n",
    "plt.ylabel('y axis label')\n",
    "plt.title('Sine and Cosine')\n",
    "plt.legend(['Sine', 'Cosine'])"
   ]
  },
  {
   "cell_type": "code",
   "execution_count": null,
   "id": "4cda6d65-c688-4bea-bdf4-baae4e838a5c",
   "metadata": {},
   "outputs": [],
   "source": [
    "# Compute the x and y coordinates for points on sine and cosine curves\n",
    "x = np.arange(0, 3 * np.pi, 0.1)\n",
    "y_sin = np.sin(x)\n",
    "y_cos = np.cos(x)\n",
    "\n",
    "# Set up a subplot grid that has height 2 and width 1,\n",
    "# and set the first such subplot as active.\n",
    "plt.subplot(2, 1, 1)\n",
    "\n",
    "# Make the first plot\n",
    "plt.plot(x, y_sin)\n",
    "plt.title('Sine')\n",
    "\n",
    "# Set the second subplot as active, and make the second plot.\n",
    "plt.subplot(2, 1, 2)\n",
    "plt.plot(x, y_cos)\n",
    "plt.title('Cosine')\n",
    "\n",
    "# Show the figure.\n",
    "plt.show()"
   ]
  }
 ],
 "metadata": {
  "kernelspec": {
   "display_name": "Python 3 (ipykernel)",
   "language": "python",
   "name": "python3"
  },
  "language_info": {
   "codemirror_mode": {
    "name": "ipython",
    "version": 3
   },
   "file_extension": ".py",
   "mimetype": "text/x-python",
   "name": "python",
   "nbconvert_exporter": "python",
   "pygments_lexer": "ipython3",
   "version": "3.11.5"
  }
 },
 "nbformat": 4,
 "nbformat_minor": 5
}
