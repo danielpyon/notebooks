{
 "cells": [
  {
   "cell_type": "markdown",
   "id": "aab6433d-76bf-4816-af8e-5e0b4ff06434",
   "metadata": {},
   "source": [
    "# Convolutional Neural Networks"
   ]
  },
  {
   "cell_type": "markdown",
   "id": "b3d0093a-dff5-4cca-8fac-277dc45a1199",
   "metadata": {},
   "source": [
    "Assume inputs are images -> better performance\n",
    "\n",
    "Output size: (W+2P-F)/S+1\n",
    "\n",
    "Types of layers: conv, max pool, ReLU, FC\n",
    "\n",
    "Conv, FC have parameters but max pool / ReLU don't.\n",
    "\n"
   ]
  }
 ],
 "metadata": {
  "kernelspec": {
   "display_name": "Python 3 (ipykernel)",
   "language": "python",
   "name": "python3"
  },
  "language_info": {
   "codemirror_mode": {
    "name": "ipython",
    "version": 3
   },
   "file_extension": ".py",
   "mimetype": "text/x-python",
   "name": "python",
   "nbconvert_exporter": "python",
   "pygments_lexer": "ipython3",
   "version": "3.11.7"
  }
 },
 "nbformat": 4,
 "nbformat_minor": 5
}
