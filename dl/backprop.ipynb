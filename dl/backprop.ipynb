{
 "cells": [
  {
   "cell_type": "markdown",
   "id": "0c171592-edf3-4b26-8d62-a81b3c16544b",
   "metadata": {},
   "source": [
    "# Backprop"
   ]
  },
  {
   "cell_type": "markdown",
   "id": "cd1fbfb5-1e51-4e82-ade8-76a0f8a5bedd",
   "metadata": {},
   "source": [
    "## Introduction"
   ]
  },
  {
   "cell_type": "markdown",
   "id": "eb53018e-c7da-4e41-a736-076dbf60cdf0",
   "metadata": {},
   "source": [
    "### Problem\n",
    "Given $f(x)$, compute $\\nabla f(x)$.\n",
    "\n",
    "### Gradients\n",
    "- $\\frac{df}{dx}=\\frac{f(x+h)-f(x)}{h}$\n",
    "\n",
    "- Rearranging, we have: $f(x+h)=f(x)+h\\frac{df}{dx}$\n",
    "\n",
    "- Approximation: nudging $x$ by $h$ changes $f$ proportional to the gradient\n",
    "- $f$ is basically a straight line when $h$ is really small, which is why that approximation works"
   ]
  },
  {
   "cell_type": "markdown",
   "id": "aa87c836-6bcb-4c1e-9995-b4cf57ae1cf2",
   "metadata": {},
   "source": [
    "## Backpropagation"
   ]
  },
  {
   "attachments": {},
   "cell_type": "markdown",
   "id": "7ae5ac65-a7fc-4b59-86c0-6d2d887909aa",
   "metadata": {},
   "source": [
    "Each node computes\n",
    "1. Output\n",
    "2. Local gradient of output with respect to inputs.\n",
    "\n",
    "Correct way to combine local and upstream gradients is multiplication.\n",
    "- Intuitively: gradient tells you which direction to nudge a variable in order to increase final output. Sign and magnitude of gradient tell you which direction and how strongly to update the variable.\n",
    "- Backpropagation communicates this information to each input node so they can compute *their* effect on the final output value."
   ]
  },
  {
   "cell_type": "markdown",
   "id": "55c4f645-155b-44db-90d9-1a7f228d8146",
   "metadata": {},
   "source": [
    "### Notes"
   ]
  },
  {
   "cell_type": "markdown",
   "id": "cc58d956-0e72-4549-acab-64ceb54d62a0",
   "metadata": {},
   "source": [
    "1. Cache forward pass variables\n",
    "2. Gradients add at forks (multivariate chain rule)"
   ]
  },
  {
   "cell_type": "markdown",
   "id": "4beaacd5-e9df-4119-8337-496729780081",
   "metadata": {},
   "source": [
    "### Patterns"
   ]
  },
  {
   "cell_type": "markdown",
   "id": "8b197381-a4ec-45c3-b204-5470ffdc106f",
   "metadata": {},
   "source": [
    "1. Add gate: distributes grad equally to each input\n",
    "    - This is because local grad is 1, so it just relays upstream grad\n",
    "2. Max gate: distributes grad to only one input (the max)\n",
    "    - This is because local grad is 1 w.r.t max input and 0 w.r.t all other inputs\n",
    "3. Multiply: distributes grad by swapping them"
   ]
  },
  {
   "cell_type": "markdown",
   "id": "d5fef538-001d-4bff-92fc-c578d52a3bc6",
   "metadata": {},
   "source": [
    "## Vectorization"
   ]
  },
  {
   "cell_type": "markdown",
   "id": "a7d499c4-0cff-4d25-9c35-e10deb1ba793",
   "metadata": {},
   "source": [
    "Use dimensional analysis (always only one way to get correct answer)\n",
    "\n",
    "Example:\n",
    "```\n",
    "# fwd pass\n",
    "# W: (5,10)\n",
    "# x: (10,3)\n",
    "# D: (5,3)\n",
    "D = W@x\n",
    "\n",
    "# bkwd pass\n",
    "# dD: (5,3)\n",
    "dD = np.random.randn(*D.shape)\n",
    "\n",
    "# we know dL/dW = dL/dD * dD/dW = dL/dD * x, but what are the exact dimensions involved?\n",
    "# well, dL/dD has a (5,3) shape, and x has (10,3) shape, so dL/dW must have (5,3)x(3,10)=(5,10) shape\n",
    "# this means we need to transpose x before the multiplication\n",
    "dW = dD @ x.T\n",
    "\n",
    "# similarly, dL/dX = dL/dD * dD/dX = dL/dD * W, so (10,5)x(5,3)=(10,3)\n",
    "# we must transpose W\n",
    "dX = W.T @ dD\n",
    "```\n",
    "\n",
    "Scenarios\n",
    "1. Scalar -> Scalar: gradient is scalar\n",
    "2. Vector -> Scalar: gradient is a vector\n",
    "3. Vector -> Vector: gradient is a 2x2 matrix (Jacobian)\n",
    "4. Matrix -> Matrix: gradient is a multidimensional matrix"
   ]
  }
 ],
 "metadata": {
  "kernelspec": {
   "display_name": "Python 3 (ipykernel)",
   "language": "python",
   "name": "python3"
  },
  "language_info": {
   "codemirror_mode": {
    "name": "ipython",
    "version": 3
   },
   "file_extension": ".py",
   "mimetype": "text/x-python",
   "name": "python",
   "nbconvert_exporter": "python",
   "pygments_lexer": "ipython3",
   "version": "3.11.7"
  }
 },
 "nbformat": 4,
 "nbformat_minor": 5
}
