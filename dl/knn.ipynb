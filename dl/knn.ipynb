{
 "cells": [
  {
   "cell_type": "markdown",
   "id": "0e6cd19d-4cf7-4145-b21a-30e21fd3e251",
   "metadata": {},
   "source": [
    "# kNN"
   ]
  },
  {
   "cell_type": "markdown",
   "id": "789378f5-58b4-4076-97cb-6bdbf11dd5df",
   "metadata": {},
   "source": [
    "## 1-NN\n",
    "All models have the following API: `train(X, y)`, `predict(X, y)`.\n",
    "\n",
    "With 1-NN classifier, `train` simply saves all images ($\\mathcal{O}(1)$), and `predict` compares each test image with every train image and picks the closest image's label as the predicted label.\n",
    "\n",
    "## Hyperparameters\n",
    "### Distance\n",
    "Think of this as finding distance between two points (like $(1,2)$ and $(30,40)$). You can use Manhattan (L1) or Euclidean (L2). L1 is *not* invariant under rotation, L2 is.\n",
    "- L1: $d_1(I_1, I_2) = \\sum_p |I_1^p - I_1^p|$\n",
    "- L2: $d_2(I_1, I_2) = \\sqrt{\\sum_p (I_1^p - I_1^p)^2}$\n",
    "\n",
    "### k\n",
    "- Bigger k: smoother decision boundaries\n",
    "- k closest training images \"vote\" for the predicted label\n",
    "    - There are white-spaces in graph of decision boundaries since some test images don't have a single winning vote\n",
    "\n",
    "### Picking hyperparameters\n",
    "Basically, *never* use train or test data. Instead, have specially reserved data for tuning.\n",
    "\n",
    "1. **Validation set**: pick a chunk of train data as \"fake\" test data to try out hyperparameters on.\n",
    "2. **Cross validation**: split train data into $n$ folds. For each hyperparameter, run the model $n$ times, where each time, you pick a different fold to test on, and use all other folds for training. Average accuracies accross the $n$ folds.\n",
    "    - This is not very popular in deep learning because there's too much data so it takes too long.\n",
    "\n",
    "## Pros and Cons of kNN\n",
    "### Pros\n",
    "- Simple\n",
    "- Fast training\n",
    "\n",
    "### Cons\n",
    "- Bad for images\n",
    "- Slow inference"
   ]
  }
 ],
 "metadata": {
  "kernelspec": {
   "display_name": "Python 3 (ipykernel)",
   "language": "python",
   "name": "python3"
  },
  "language_info": {
   "codemirror_mode": {
    "name": "ipython",
    "version": 3
   },
   "file_extension": ".py",
   "mimetype": "text/x-python",
   "name": "python",
   "nbconvert_exporter": "python",
   "pygments_lexer": "ipython3",
   "version": "3.11.7"
  }
 },
 "nbformat": 4,
 "nbformat_minor": 5
}
